{
 "cells": [
  {
   "cell_type": "code",
   "execution_count": null,
   "metadata": {},
   "outputs": [],
   "source": [
    "import numpy as np\n",
    "\n",
    "from plotly.subplots import make_subplots\n",
    "import plotly.graph_objects as go\n",
    "import plotly.express as px\n",
    "\n",
    "from sklearn.ensemble import IsolationForest\n",
    "from sklearn.svm import OneClassSVM\n",
    "\n",
    "from ocml.datasets import load_toy_2d, default_process\n",
    "\n",
    "\n",
    "def get_sk_contour(model, domain, resolution):\n",
    "  \"\"\"Return grid with level sets from model.\n",
    "  \n",
    "  Args:\n",
    "      model: the classifier to plot\n",
    "      domain: domain on which to plot the classifier level sets\n",
    "      resolution: number of pixels in discretization\n",
    "      \n",
    "  Returns:\n",
    "      grid with predictions, x and y coordinnaates of the grid. \n",
    "  \"\"\"\n",
    "  xmin, xmax = domain[0], domain[1]\n",
    "  ymin, ymax = domain[0], domain[1]\n",
    "  x_coords = np.linspace(xmin, xmax, resolution)\n",
    "  y_coords = np.linspace(ymin, ymax, resolution)\n",
    "  x_grid, y_grid = np.meshgrid(x_coords, y_coords)\n",
    "  grid = np.stack([x_grid.flatten(), y_grid.flatten()], axis=-1)\n",
    "  z_grid = model.decision_function(grid)\n",
    "  z_grid = z_grid.reshape(x_grid.shape)\n",
    "  return z_grid, x_coords, y_coords, grid\n",
    "\n",
    "def plot_sk_contour(model, X, y,\n",
    "                    fig, col,\n",
    "                    domain=None):  # domain on which to plot the data.\n",
    "  if domain is None:\n",
    "    domain = config.domain\n",
    "  z_grid, x_coords, y_coords, grid = get_sk_contour(model, domain, resolution=300)    \n",
    "  fig.add_trace(go.Contour(z=z_grid, x=x_coords, y=y_coords, ncontours=20), row=1, col=col)\n",
    "  fig.add_trace(go.Scatter(x=X[:,0], y=X[:,1], mode='markers', marker=dict(size=1.5, color='black')), row=1, col=col)\n",
    "  return fig"
   ]
  },
  {
   "cell_type": "code",
   "execution_count": null,
   "metadata": {},
   "outputs": [],
   "source": [
    "def get_sk_model(sk_model_name):\n",
    "  outliers_fraction = 0.05\n",
    "  if sk_model_name == 'if':\n",
    "    sk_model = IsolationForest(contamination=outliers_fraction)\n",
    "  elif sk_model_name == 'ocsvm':\n",
    "    sk_model = OneClassSVM(nu=outliers_fraction, kernel=\"rbf\", gamma='scale')\n",
    "  return sk_model"
   ]
  },
  {
   "cell_type": "code",
   "execution_count": null,
   "metadata": {},
   "outputs": [],
   "source": [
    "def train_plot_sk_model(fig, col, ds_name, sk_model_name, domain):\n",
    "  X, y = load_toy_2d(config.dataset_name, config.num_pts, config.noise)\n",
    "  X, y = default_process(X, y)\n",
    "  sk_model = get_sk_model(sk_model_name)\n",
    "  sk_model.fit(X, y)\n",
    "  plot_sk_contour(sk_model, X, y, fig, col, domain=domain)"
   ]
  },
  {
   "cell_type": "code",
   "execution_count": null,
   "metadata": {},
   "outputs": [],
   "source": [
    "def train_plot_sk_model(fig, col, ds_name, sk_model_name, domain):\n",
    "  X, y = load_toy_2d(config.dataset_name, config.num_pts, config.noise)\n",
    "  X, y = default_process(X, y)\n",
    "  sk_model = get_sk_model(sk_model_name)\n",
    "  sk_model.fit(X, y)\n",
    "  plot_sk_contour(sk_model, X, y, fig, col, domain=domain)"
   ]
  },
  {
   "cell_type": "code",
   "execution_count": null,
   "metadata": {},
   "outputs": [],
   "source": [
    "num_cols = 1\n",
    "fig = make_subplots(rows=1, cols=num_cols, shared_yaxes=True)\n",
    "sk_model_name = \"ocsvm\"  # or \"if\"\n",
    "train_plot_sk_model(fig, 1, config.dataset_name, sk_model_name, domain=[-3, 3])\n",
    "width = num_cols * 500\n",
    "fig.update_layout(autosize=False, width=width, height=500, showlegend=False, barmode='overlay')\n",
    "fig.update_yaxes(\n",
    "    scaleanchor = \"x\",\n",
    "    scaleratio = 1,\n",
    "    row=1,\n",
    "    col=1,\n",
    ")"
   ]
  }
 ],
 "metadata": {
  "kernelspec": {
   "display_name": "Python 3",
   "language": "python",
   "name": "python3"
  },
  "language_info": {
   "codemirror_mode": {
    "name": "ipython",
    "version": 3
   },
   "file_extension": ".py",
   "mimetype": "text/x-python",
   "name": "python",
   "nbconvert_exporter": "python",
   "pygments_lexer": "ipython3",
   "version": "3.8.5"
  },
  "vscode": {
   "interpreter": {
    "hash": "92c440f6d82e79b41f51da7601df579ae39fc115954f77d4b816ac1ce1ea7f75"
   }
  }
 },
 "nbformat": 4,
 "nbformat_minor": 4
}
