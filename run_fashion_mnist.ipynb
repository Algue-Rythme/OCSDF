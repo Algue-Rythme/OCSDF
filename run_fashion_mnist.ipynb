{
 "cells": [
  {
   "cell_type": "code",
   "execution_count": null,
   "metadata": {},
   "outputs": [],
   "source": [
    "import os\n",
    "os.environ['TF_CPP_MIN_LOG_LEVEL'] = '2'  # or any {'0', '1', '2'}\n",
    "# 0: infos, warning, errors.\n",
    "# 1: warnings, errors.\n",
    "# 2: errors.\n",
    "# 3: none.\n",
    "import tensorflow as tf\n",
    "physical_devices = tf.config.list_physical_devices('GPU')\n",
    "print(\"GPUs available:\", physical_devices)\n",
    "tf.compat.v1.logging.set_verbosity(tf.compat.v1.logging.ERROR)"
   ]
  },
  {
   "cell_type": "code",
   "execution_count": null,
   "metadata": {},
   "outputs": [],
   "source": [
    "from functools import partial\n",
    "import math\n",
    "import numpy as np\n",
    "import random\n",
    "\n",
    "from ocml.datasets import build_mnist, tfds_from_sampler, tf_from_tfds, zip_ds\n",
    "from ocml.evaluate import check_LLC, log_metrics\n",
    "from ocml.models import spectral_VGG, spectral_VGG_V2\n",
    "from ocml.plot import plot_preds_ood, plot_imgs_grid, plot_gan\n",
    "from ocml.priors import uniform_image, Mnist_NDA\n",
    "from ocml.train import train, SH_KR"
   ]
  },
  {
   "cell_type": "code",
   "execution_count": null,
   "metadata": {},
   "outputs": [],
   "source": [
    "from types import SimpleNamespace\n",
    "import math\n",
    "\n",
    "\n",
    "def perc_to_margin(img_size, num_channels, perc, domain):\n",
    "    return perc * (img_size * img_size * num_channels * (domain[1] - domain[0]))**0.5\n",
    "\n",
    "def get_config(debug=False):\n",
    "  domain = [-1., 1.]\n",
    "  # heuristic of https://arxiv.org/abs/2206.06854\n",
    "  ratio_images = 0.5 / 100\n",
    "  ratio_pixels = 4 / 100\n",
    "  margin = perc_to_margin(28, 1, ratio_pixels, domain)  # 5% pixels for real images\n",
    "  lbda = 1. / ratio_images  \n",
    "  print(f\"Margin={margin:.3f} Lambda={lbda:.3f}\")\n",
    "  dataset_name = os.environ.get(\"DATASET_NAME\", \"fashion_mnist\")\n",
    "  config = SimpleNamespace(\n",
    "    dataset_name = dataset_name,\n",
    "    # Newton-Raphson.\n",
    "    maxiter = 16,\n",
    "    eta = 5.,\n",
    "    level_set = 0,\n",
    "    batch_size = 512,\n",
    "    domain = domain,\n",
    "    margin = margin,\n",
    "    lbda = lbda,\n",
    "    domain_clip = True,\n",
    "    deterministic = False,\n",
    "    negative_augmentation = False,\n",
    "    overshoot_boundary = False,\n",
    "    # architecture.\n",
    "    k_coef_lip = 1.,\n",
    "    strides = False,\n",
    "    spectral_dense = True,\n",
    "    pooling = True,\n",
    "    global_pooling = False,\n",
    "    groupsort = True,\n",
    "    conv_widths = [256, 256, 256],\n",
    "    dense_widths = [256, 256, 256],\n",
    "    # training.\n",
    "    in_labels = [4],\n",
    "    warmup_epochs = 10,\n",
    "    epochs_per_plot = 15,\n",
    "  )\n",
    "  return config"
   ]
  },
  {
   "cell_type": "code",
   "execution_count": null,
   "metadata": {},
   "outputs": [],
   "source": [
    "debug = \"SANDBOX\" in os.environ\n",
    "config = get_config(debug)\n",
    "train_kwargs = {\n",
    "  'domain': config.domain,\n",
    "  'eta': config.eta,\n",
    "  'deterministic': config.deterministic,\n",
    "  'level_set': config.level_set,\n",
    "  'overshoot_boundary': config.overshoot_boundary\n",
    "}"
   ]
  },
  {
   "cell_type": "code",
   "execution_count": null,
   "metadata": {},
   "outputs": [],
   "source": [
    "import plotly.io as pio\n",
    "print(\"PLOTLY_RENDERER:\", pio.renderers.default)\n",
    "try:\n",
    "  import wandb\n",
    "  wandb.login()\n",
    "  wandb_available = True\n",
    "except ModuleNotFoundError as e:\n",
    "  print(e)\n",
    "  print(\"Wandb logs will be removed.\")\n",
    "  wandb_available = False\n",
    "plot_wandb = wandb_available and not debug  # Set to False to de-activate Wandb.\n",
    "if plot_wandb:\n",
    "  import wandb\n",
    "  group = os.environ.get(\"WANDB_GROUP\", \"sandbox_fashion_mnist\")\n",
    "  wandb.init(project=\"oneclass\", config=config.__dict__, group=group, save_code=True)\n",
    "else:\n",
    "  try:\n",
    "    wandb.finish()\n",
    "  except Exception as e:\n",
    "    print(e)\n",
    "\n",
    "train_kwargs['log_metrics_fn'] = partial(log_metrics, plot_wandb=plot_wandb)"
   ]
  },
  {
   "cell_type": "code",
   "execution_count": null,
   "metadata": {},
   "outputs": [],
   "source": [
    "input_shape = (28, 28, 1)\n",
    "V2 = True\n",
    "if V2:\n",
    "  model = spectral_VGG_V2(input_shape, k_coef_lip=config.k_coef_lip)\n",
    "else:\n",
    "  model = spectral_VGG(input_shape, conv_widths=config.conv_widths,\n",
    "                       dense_widths=config.dense_widths,\n",
    "                       k_coef_lip=config.k_coef_lip,\n",
    "                       groupsort=config.groupsort,\n",
    "                       pooling=config.pooling,\n",
    "                       global_pooling=config.global_pooling)\n",
    "\n",
    "loss_fn = SH_KR(config.margin, config.lbda)"
   ]
  },
  {
   "cell_type": "code",
   "execution_count": null,
   "metadata": {},
   "outputs": [],
   "source": [
    "# Produce and process dataset.\n",
    "p_dataset = build_mnist(config.dataset_name, config.batch_size, in_labels=config.in_labels)\n",
    "num_images = 60 * 1000\n",
    "epoch_length = math.ceil(num_images*len(config.in_labels)*(1/10) / config.batch_size) if not debug else 3"
   ]
  },
  {
   "cell_type": "code",
   "execution_count": null,
   "metadata": {},
   "outputs": [],
   "source": [
    "# Create optimizer class.\n",
    "decay_steps = epoch_length*(config.warmup_epochs + config.epochs_per_plot*2)\n",
    "initial_learning_rate = 1e-3\n",
    "learning_rate =  tf.keras.optimizers.schedules.PolynomialDecay(\n",
    "    initial_learning_rate=initial_learning_rate, decay_steps=decay_steps,\n",
    "  end_learning_rate=initial_learning_rate/1000, power=1.)\n",
    "opt = tf.keras.optimizers.RMSprop(learning_rate=learning_rate)\n",
    "\n",
    "# Initialize the network.\n",
    "gen = tf.random.Generator.from_seed(random.randint(0, 1000))\n",
    "p_batch = next(iter(p_dataset))\n",
    "_ = model(p_batch, training=True)  # garbage forward.\n",
    "model.summary()"
   ]
  },
  {
   "cell_type": "code",
   "execution_count": null,
   "metadata": {},
   "outputs": [],
   "source": [
    "# Adversarial distribution.\n",
    "if config.negative_augmentation:\n",
    "  bs_1, bs_2 = config.batch_size // 2, config.batch_size - (config.batch_size // 2)\n",
    "  q_random = tfds_from_sampler(uniform_image, gen, bs_1, p_batch.shape[1:], domain=config.domain)\n",
    "  q_nda = Mnist_NDA().transform(build_mnist(bs_2, in_labels=config.in_labels))\n",
    "  q_dataset = zip_ds(q_random, q_nda)\n",
    "else:\n",
    "  q_dataset = tfds_from_sampler(uniform_image, gen, config.batch_size, p_batch.shape[1:], domain=config.domain)\n",
    "Q0 = next(iter(q_dataset))\n",
    "plot_imgs_grid(Q0, 'X_ood.png')"
   ]
  },
  {
   "cell_type": "code",
   "execution_count": null,
   "metadata": {},
   "outputs": [],
   "source": [
    "X_P = tf.reshape(tf_from_tfds(p_dataset.take(epoch_length)), shape=(-1, 28, 28, 1))\n",
    "X_test = tf_from_tfds(build_mnist(config.dataset_name, config.batch_size, in_labels=config.in_labels, split='test'))\n",
    "X_ood = tf_from_tfds(build_mnist(config.dataset_name, config.batch_size, in_labels=config.in_labels, split='ood'))\n",
    "print(f'TrainSize={len(X_P)} TestSize={len(X_test)} OODSize={len(X_ood)}')"
   ]
  },
  {
   "cell_type": "code",
   "execution_count": null,
   "metadata": {},
   "outputs": [],
   "source": [
    "# plot_imgs_grid(X_P, 'X_P.png')\n",
    "# plot_imgs_grid(X_test, 'X_test.png')\n",
    "# plot_imgs_grid(X_ood, 'X_ood.png')\n",
    "# plot_imgs_grid(Q_0, 'X_ood.png')\n",
    "# check_LLC(model, Q0, plot_wandb)"
   ]
  },
  {
   "cell_type": "code",
   "execution_count": null,
   "metadata": {},
   "outputs": [],
   "source": [
    "epoch = 0\n",
    "for epoch in range(0, config.warmup_epochs):\n",
    "  print(f\"Epoch={epoch} LR={float(opt._decayed_lr(tf.float32)):.7f}\")\n",
    "  train(model, opt, loss_fn, gen, p_dataset, q_dataset, epoch_length, maxiter=0, **train_kwargs)\n",
    "plot_preds_ood(epoch, model, X_P, X_test, X_ood, plot_histogram=True, plot_wandb=plot_wandb)\n",
    "plot_gan(epoch, model, p_batch, Q0, gen, maxiter=config.maxiter, **train_kwargs)"
   ]
  },
  {
   "cell_type": "code",
   "execution_count": null,
   "metadata": {},
   "outputs": [],
   "source": [
    "end_epoch = config.epochs_per_plot+epoch+1\n",
    "for epoch in range(epoch+1, end_epoch):\n",
    "  print(f\"Epoch={epoch} LR={float(opt._decayed_lr(tf.float32)):.7f}\")\n",
    "  train(model, opt, loss_fn, gen, p_dataset, q_dataset, epoch_length, maxiter=config.maxiter, **train_kwargs)\n",
    "  plot_histogram = (epoch+1 == end_epoch)\n",
    "  plot_preds_ood(epoch, model, X_P, X_test, X_ood, plot_histogram=plot_histogram, plot_wandb=plot_wandb)\n",
    "plot_gan(epoch, model, p_batch, Q0, gen, maxiter=config.maxiter, **train_kwargs)"
   ]
  },
  {
   "cell_type": "code",
   "execution_count": null,
   "metadata": {},
   "outputs": [],
   "source": [
    "end_epoch = config.warmup_epochs+epoch+1\n",
    "for epoch in range(epoch+1, end_epoch):\n",
    "  print(f\"Epoch={epoch} LR={float(opt._decayed_lr(tf.float32)):.7f}\")\n",
    "  train(model, opt, loss_fn, gen, p_dataset, q_dataset, epoch_length, maxiter=config.maxiter, **train_kwargs)\n",
    "  plot_histogram = (epoch+1 == end_epoch)\n",
    "  plot_preds_ood(epoch, model, X_P, X_test, X_ood, plot_histogram=plot_histogram, plot_wandb=plot_wandb)\n",
    "plot_gan(epoch, model, p_batch, Q0, gen, maxiter=config.maxiter, **train_kwargs)"
   ]
  },
  {
   "cell_type": "code",
   "execution_count": null,
   "metadata": {},
   "outputs": [],
   "source": [
    "if plot_wandb:\n",
    "  wandb.finish()"
   ]
  },
  {
   "cell_type": "code",
   "execution_count": null,
   "metadata": {},
   "outputs": [],
   "source": [
    "plot_gan(epoch, model, p_batch, Q0, gen, maxiter=config.maxiter, **train_kwargs)"
   ]
  },
  {
   "cell_type": "code",
   "execution_count": null,
   "metadata": {},
   "outputs": [],
   "source": [
    "plot_preds_ood(epoch, model, X_P, X_test, X_ood, plot_histogram=True, plot_wandb=False)"
   ]
  },
  {
   "cell_type": "code",
   "execution_count": null,
   "metadata": {},
   "outputs": [],
   "source": []
  }
 ],
 "metadata": {
  "kernelspec": {
   "display_name": "Python 3",
   "language": "python",
   "name": "python3"
  },
  "language_info": {
   "codemirror_mode": {
    "name": "ipython",
    "version": 3
   },
   "file_extension": ".py",
   "mimetype": "text/x-python",
   "name": "python",
   "nbconvert_exporter": "python",
   "pygments_lexer": "ipython3",
   "version": "3.8.5"
  },
  "vscode": {
   "interpreter": {
    "hash": "92c440f6d82e79b41f51da7601df579ae39fc115954f77d4b816ac1ce1ea7f75"
   }
  },
  "widgets": {
   "application/vnd.jupyter.widget-state+json": {
    "state": {
     "091c2994d1544a68ab89a94f725c5ed7": {
      "model_module": "@jupyter-widgets/controls",
      "model_module_version": "1.5.0",
      "model_name": "DescriptionStyleModel",
      "state": {
       "_model_module": "@jupyter-widgets/controls",
       "_model_module_version": "1.5.0",
       "_model_name": "DescriptionStyleModel",
       "_view_count": null,
       "_view_module": "@jupyter-widgets/base",
       "_view_module_version": "1.2.0",
       "_view_name": "StyleView",
       "description_width": ""
      }
     },
     "24504d5cee27493f879777200b809d3c": {
      "model_module": "@jupyter-widgets/controls",
      "model_module_version": "1.5.0",
      "model_name": "ProgressStyleModel",
      "state": {
       "_model_module": "@jupyter-widgets/controls",
       "_model_module_version": "1.5.0",
       "_model_name": "ProgressStyleModel",
       "_view_count": null,
       "_view_module": "@jupyter-widgets/base",
       "_view_module_version": "1.2.0",
       "_view_name": "StyleView",
       "bar_color": null,
       "description_width": ""
      }
     },
     "424b1f1a15ad4869af4be9eb79247798": {
      "model_module": "@jupyter-widgets/base",
      "model_module_version": "1.2.0",
      "model_name": "LayoutModel",
      "state": {
       "_model_module": "@jupyter-widgets/base",
       "_model_module_version": "1.2.0",
       "_model_name": "LayoutModel",
       "_view_count": null,
       "_view_module": "@jupyter-widgets/base",
       "_view_module_version": "1.2.0",
       "_view_name": "LayoutView",
       "align_content": null,
       "align_items": null,
       "align_self": null,
       "border": null,
       "bottom": null,
       "display": null,
       "flex": null,
       "flex_flow": null,
       "grid_area": null,
       "grid_auto_columns": null,
       "grid_auto_flow": null,
       "grid_auto_rows": null,
       "grid_column": null,
       "grid_gap": null,
       "grid_row": null,
       "grid_template_areas": null,
       "grid_template_columns": null,
       "grid_template_rows": null,
       "height": null,
       "justify_content": null,
       "justify_items": null,
       "left": null,
       "margin": null,
       "max_height": null,
       "max_width": null,
       "min_height": null,
       "min_width": null,
       "object_fit": null,
       "object_position": null,
       "order": null,
       "overflow": null,
       "overflow_x": null,
       "overflow_y": null,
       "padding": null,
       "right": null,
       "top": null,
       "visibility": null,
       "width": null
      }
     },
     "5aee67def05c46d89fe3e97b4f81e3c9": {
      "model_module": "@jupyter-widgets/controls",
      "model_module_version": "1.5.0",
      "model_name": "VBoxModel",
      "state": {
       "_dom_classes": [],
       "_model_module": "@jupyter-widgets/controls",
       "_model_module_version": "1.5.0",
       "_model_name": "VBoxModel",
       "_view_count": null,
       "_view_module": "@jupyter-widgets/controls",
       "_view_module_version": "1.5.0",
       "_view_name": "VBoxView",
       "box_style": "",
       "children": [
        "IPY_MODEL_aa900e7e22674ff2a249eac4bc804a71",
        "IPY_MODEL_81182c1fb849421784f4e8ebb525e3ee"
       ],
       "layout": "IPY_MODEL_af9ddc5fb82f47a7aaa6b0802393026b"
      }
     },
     "70fc441e72a846d69e7e41a24d163063": {
      "model_module": "@jupyter-widgets/base",
      "model_module_version": "1.2.0",
      "model_name": "LayoutModel",
      "state": {
       "_model_module": "@jupyter-widgets/base",
       "_model_module_version": "1.2.0",
       "_model_name": "LayoutModel",
       "_view_count": null,
       "_view_module": "@jupyter-widgets/base",
       "_view_module_version": "1.2.0",
       "_view_name": "LayoutView",
       "align_content": null,
       "align_items": null,
       "align_self": null,
       "border": null,
       "bottom": null,
       "display": null,
       "flex": null,
       "flex_flow": null,
       "grid_area": null,
       "grid_auto_columns": null,
       "grid_auto_flow": null,
       "grid_auto_rows": null,
       "grid_column": null,
       "grid_gap": null,
       "grid_row": null,
       "grid_template_areas": null,
       "grid_template_columns": null,
       "grid_template_rows": null,
       "height": null,
       "justify_content": null,
       "justify_items": null,
       "left": null,
       "margin": null,
       "max_height": null,
       "max_width": null,
       "min_height": null,
       "min_width": null,
       "object_fit": null,
       "object_position": null,
       "order": null,
       "overflow": null,
       "overflow_x": null,
       "overflow_y": null,
       "padding": null,
       "right": null,
       "top": null,
       "visibility": null,
       "width": null
      }
     },
     "81182c1fb849421784f4e8ebb525e3ee": {
      "model_module": "@jupyter-widgets/controls",
      "model_module_version": "1.5.0",
      "model_name": "FloatProgressModel",
      "state": {
       "_dom_classes": [],
       "_model_module": "@jupyter-widgets/controls",
       "_model_module_version": "1.5.0",
       "_model_name": "FloatProgressModel",
       "_view_count": null,
       "_view_module": "@jupyter-widgets/controls",
       "_view_module_version": "1.5.0",
       "_view_name": "ProgressView",
       "bar_style": "",
       "description": "",
       "description_tooltip": null,
       "layout": "IPY_MODEL_424b1f1a15ad4869af4be9eb79247798",
       "max": 1,
       "min": 0,
       "orientation": "horizontal",
       "style": "IPY_MODEL_24504d5cee27493f879777200b809d3c",
       "value": 0
      }
     },
     "aa900e7e22674ff2a249eac4bc804a71": {
      "model_module": "@jupyter-widgets/controls",
      "model_module_version": "1.5.0",
      "model_name": "LabelModel",
      "state": {
       "_dom_classes": [],
       "_model_module": "@jupyter-widgets/controls",
       "_model_module_version": "1.5.0",
       "_model_name": "LabelModel",
       "_view_count": null,
       "_view_module": "@jupyter-widgets/controls",
       "_view_module_version": "1.5.0",
       "_view_name": "LabelView",
       "description": "",
       "description_tooltip": null,
       "layout": "IPY_MODEL_70fc441e72a846d69e7e41a24d163063",
       "placeholder": "​",
       "style": "IPY_MODEL_091c2994d1544a68ab89a94f725c5ed7",
       "value": ""
      }
     },
     "af9ddc5fb82f47a7aaa6b0802393026b": {
      "model_module": "@jupyter-widgets/base",
      "model_module_version": "1.2.0",
      "model_name": "LayoutModel",
      "state": {
       "_model_module": "@jupyter-widgets/base",
       "_model_module_version": "1.2.0",
       "_model_name": "LayoutModel",
       "_view_count": null,
       "_view_module": "@jupyter-widgets/base",
       "_view_module_version": "1.2.0",
       "_view_name": "LayoutView",
       "align_content": null,
       "align_items": null,
       "align_self": null,
       "border": null,
       "bottom": null,
       "display": null,
       "flex": null,
       "flex_flow": null,
       "grid_area": null,
       "grid_auto_columns": null,
       "grid_auto_flow": null,
       "grid_auto_rows": null,
       "grid_column": null,
       "grid_gap": null,
       "grid_row": null,
       "grid_template_areas": null,
       "grid_template_columns": null,
       "grid_template_rows": null,
       "height": null,
       "justify_content": null,
       "justify_items": null,
       "left": null,
       "margin": null,
       "max_height": null,
       "max_width": null,
       "min_height": null,
       "min_width": null,
       "object_fit": null,
       "object_position": null,
       "order": null,
       "overflow": null,
       "overflow_x": null,
       "overflow_y": null,
       "padding": null,
       "right": null,
       "top": null,
       "visibility": null,
       "width": null
      }
     }
    },
    "version_major": 2,
    "version_minor": 0
   }
  }
 },
 "nbformat": 4,
 "nbformat_minor": 4
}
