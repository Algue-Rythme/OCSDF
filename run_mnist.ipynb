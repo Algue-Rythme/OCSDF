{
 "cells": [
  {
   "cell_type": "code",
   "execution_count": null,
   "metadata": {},
   "outputs": [],
   "source": [
    "import tensorflow as tf\n",
    "\n",
    "physical_devices = tf.config.list_physical_devices('GPU')\n",
    "print(\"GPUs available:\", physical_devices)"
   ]
  },
  {
   "cell_type": "code",
   "execution_count": null,
   "metadata": {},
   "outputs": [],
   "source": [
    "import math\n",
    "import numpy as np\n",
    "\n",
    "from ocml.datasets import build_mnist\n",
    "from ocml.evaluate import check_LLC\n",
    "from ocml.models import spectral_VGG\n",
    "from ocml.plot import plot_preds_ood, plot_preds_ood\n",
    "from ocml.priors import uniform_sampler_images\n",
    "from ocml.train import train_loop, SH_KR"
   ]
  },
  {
   "cell_type": "code",
   "execution_count": null,
   "metadata": {},
   "outputs": [],
   "source": [
    "from types import SimpleNamespace\n",
    "import math\n",
    "\n",
    "def get_config(debug=False):\n",
    "  domain = [-1., 1.]\n",
    "  margin = (2/100) * (28 * 28 * (domain[1] - domain[0]))**0.5  # 5% pixels for real images\n",
    "  lbda = 200.  # weak Hinge regularization, less KR.\n",
    "  config = SimpleNamespace(\n",
    "      dataset_name = \"mnist\",\n",
    "      optimizer = \"adam\",\n",
    "      maxiter = 16,\n",
    "      batch_size = 128,\n",
    "      domain = domain,\n",
    "      margin = margin,\n",
    "      lbda = lbda,\n",
    "      k_coef_lip = 1.,\n",
    "      strides = False,\n",
    "      num_epochs = 1 if debug else 101,\n",
    "      spectral_dense = True,\n",
    "      domain_clip = True,\n",
    "      deterministic = True,\n",
    "      pooling = True,\n",
    "      groupsort = False,\n",
    "      conv_widths = [128, 128, 128],\n",
    "      dense_widths = [128, 128, 128],\n",
    "      in_labels = [4]\n",
    "    )\n",
    "  return config"
   ]
  },
  {
   "cell_type": "code",
   "execution_count": null,
   "metadata": {},
   "outputs": [],
   "source": [
    "debug = False\n",
    "config = get_config(debug)"
   ]
  },
  {
   "cell_type": "code",
   "execution_count": null,
   "metadata": {},
   "outputs": [],
   "source": [
    "try:\n",
    "  import os\n",
    "  os.environ['WANDB_NOTEBOOK_NAME'] = 'run_toy2d.ipynb'\n",
    "  import wandb\n",
    "  wandb.login()\n",
    "  wandb_available = True\n",
    "except ModuleNotFoundError as e:\n",
    "  print(e)\n",
    "  print(\"Wandb logs will be removed.\")\n",
    "  wandb_available = False\n",
    "plot_wandb = wandb_available and not debug  # Set to False to de-activate Wandb.\n",
    "if plot_wandb:\n",
    "  import wandb\n",
    "  wandb.init(project=\"oneclass\", config=config.__dict__)\n",
    "else:\n",
    "  try:\n",
    "    wandb.finish()\n",
    "  except Exception as e:\n",
    "    print(e)"
   ]
  },
  {
   "cell_type": "code",
   "execution_count": null,
   "metadata": {},
   "outputs": [],
   "source": [
    "input_shape = (28, 28, 1)\n",
    "model = discriminator(input_shape, conv_widths=config.conv_widths,\n",
    "                      dense_widths=config.dense_widths,\n",
    "                      k_coef_lip=config.k_coef_lip)\n",
    "\n",
    "if config.conventional:\n",
    "  loss_fn = BCE()\n",
    "else:\n",
    "  loss_fn = SH_KR(config.margin, config.lbda)"
   ]
  },
  {
   "cell_type": "code",
   "execution_count": null,
   "metadata": {},
   "outputs": [],
   "source": [
    "# Produce and process dataset.\n",
    "dataset = build_mnist(config.batch_size)\n",
    "epoch_length = math.ceil(50*1000 / config.batch_size)\n",
    "\n",
    "# Create optimizer class.\n",
    "opt = tf.keras.optimizers.get(config.optimizer)"
   ]
  },
  {
   "cell_type": "code",
   "execution_count": null,
   "metadata": {},
   "outputs": [],
   "source": [
    "gen = tf.random.Generator.from_seed(1234)\n",
    "free_batch = next(iter(dataset))\n",
    "_ = model(free_batch, training=True)  # garbage forward.\n",
    "seeds = uniform_sampler_images(gen, config.batch_size, free_batch.shape[1:])\n",
    "model.summary()"
   ]
  },
  {
   "cell_type": "code",
   "execution_count": null,
   "metadata": {},
   "outputs": [],
   "source": [
    "it_dataset = iter(dataset)\n",
    "it_test = iter(build_dataset(config.batch_size, split='test'))\n",
    "it_ood = iter(build_dataset(config.batch_size, split='ood'))\n",
    "plot_imgs(next(it_dataset), 'dataset.png')\n",
    "plot_imgs(next(it_test), 'dataset.png')\n",
    "plot_imgs(next(it_ood), 'dataset.png')"
   ]
  },
  {
   "cell_type": "code",
   "execution_count": null,
   "metadata": {},
   "outputs": [],
   "source": [
    "check_LLC(model, seeds, plot_wandb)"
   ]
  },
  {
   "cell_type": "code",
   "execution_count": null,
   "metadata": {},
   "outputs": [],
   "source": [
    "num_epochs = config.num_epochs\n",
    "for epoch in range(num_epochs):\n",
    "  train_loop(model, opt, loss_fn, gen, dataset, epoch_length, config.domain, config.maxiter, plot_wandb=plot_wandb)\n",
    "  check_LLC(model, seeds, plot_wandb=plot_wandb)\n",
    "  evaluate(epoch, model, next(it_dataset), next(it_test), next(it_ood), plot_wandb=plot_wandb)\n",
    "  plot_advs(epoch, next(it_dataset), save_file=True)"
   ]
  },
  {
   "cell_type": "code",
   "execution_count": null,
   "metadata": {},
   "outputs": [],
   "source": []
  }
 ],
 "metadata": {
  "kernelspec": {
   "display_name": "Python 3",
   "language": "python",
   "name": "python3"
  },
  "language_info": {
   "codemirror_mode": {
    "name": "ipython",
    "version": 3
   },
   "file_extension": ".py",
   "mimetype": "text/x-python",
   "name": "python",
   "nbconvert_exporter": "python",
   "pygments_lexer": "ipython3",
   "version": "3.8.5"
  },
  "vscode": {
   "interpreter": {
    "hash": "92c440f6d82e79b41f51da7601df579ae39fc115954f77d4b816ac1ce1ea7f75"
   }
  }
 },
 "nbformat": 4,
 "nbformat_minor": 4
}
