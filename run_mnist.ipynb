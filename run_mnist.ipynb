{
 "cells": [
  {
   "cell_type": "code",
   "execution_count": null,
   "metadata": {},
   "outputs": [],
   "source": [
    "from types import SimpleNamespace\n",
    "import math\n",
    "\n",
    "def get_config(debug=False):\n",
    "  domain = [-1., 1.]\n",
    "  margin = (2/100) * (28 * 28 * (domain[1] - domain[0]))**0.5  # 5% pixels for real images\n",
    "  lbda = 200.  # weak Hinge regularization, less KR.\n",
    "  config = SimpleNamespace(\n",
    "      dataset_name = \"mnist\",\n",
    "      optimizer = \"adam\",\n",
    "      maxiter = 16,\n",
    "      eta = 10.,\n",
    "      batch_size = 128,\n",
    "      domain = domain,\n",
    "      margin = margin,\n",
    "      lbda = lbda,\n",
    "      k_coef_lip = 1.,\n",
    "      strides = False,\n",
    "      num_epochs = 1 if debug else 101,\n",
    "      spectral_dense = True,\n",
    "      domain_clip = True,\n",
    "      deterministic = True,\n",
    "      pooling = True,\n",
    "      groupsort = False,\n",
    "      conv_widths = [128, 128, 128],\n",
    "      dense_widths = [128, 128, 128],\n",
    "      in_labels = [9]\n",
    "    )\n",
    "  return config"
   ]
  }
 ],
 "metadata": {
  "kernelspec": {
   "display_name": "Python 3.8.5 ('tf2')",
   "language": "python",
   "name": "python3"
  },
  "language_info": {
   "name": "python",
   "version": "3.8.5"
  },
  "orig_nbformat": 4,
  "vscode": {
   "interpreter": {
    "hash": "92c440f6d82e79b41f51da7601df579ae39fc115954f77d4b816ac1ce1ea7f75"
   }
  }
 },
 "nbformat": 4,
 "nbformat_minor": 2
}
