{
 "cells": [
  {
   "cell_type": "code",
   "execution_count": 1,
   "id": "2c35d7b2-554d-4488-800b-c3973bb96a6f",
   "metadata": {},
   "outputs": [],
   "source": [
    "from deel.lip.layers import (\n",
    "    SpectralDense,\n",
    "    SpectralConv2D,\n",
    "    ScaledL2NormPooling2D,\n",
    "    FrobeniusDense,\n",
    ")\n",
    "from deel.lip.model import Sequential\n",
    "from deel.lip.activations import GroupSort\n",
    "from deel.lip.losses import MulticlassHKR, MulticlassKR\n",
    "from tensorflow.keras.layers import Input, Flatten\n",
    "from tensorflow.keras.optimizers import Adam\n",
    "from tensorflow.keras.datasets import mnist\n",
    "from tensorflow.keras.utils import to_categorical\n",
    "import numpy as np\n",
    "import tensorflow as tf"
   ]
  },
  {
   "cell_type": "code",
   "execution_count": 2,
   "id": "ca0f1d51-ca17-4b7d-9753-fe3e2c0e83ee",
   "metadata": {},
   "outputs": [],
   "source": [
    "# load data\n",
    "(x_train, y_train), (x_test, y_test) = mnist.load_data()\n",
    "# standardize and reshape the data\n",
    "x_train = np.expand_dims(x_train, -1)\n",
    "mean = x_train.mean()\n",
    "std = x_train.std()\n",
    "x_train = (x_train - mean) / std\n",
    "x_test = np.expand_dims(x_test, -1)\n",
    "x_test = (x_test - mean) / std\n",
    "# one hot encode the labels\n",
    "y_train = to_categorical(y_train)\n",
    "y_test = to_categorical(y_test)"
   ]
  },
  {
   "cell_type": "code",
   "execution_count": 3,
   "id": "24b22520-87d5-42cd-941d-b1a0f09c0424",
   "metadata": {},
   "outputs": [
    {
     "name": "stderr",
     "output_type": "stream",
     "text": [
      "/home/lbethune/anaconda3/envs/tf2/lib/python3.8/site-packages/deel/lip/model.py:54: UserWarning: Sequential model contains a layer wich is not a Lipschitz layer: flatten\n",
      "  warn(\n"
     ]
    }
   ],
   "source": [
    "model = Sequential(\n",
    "    [\n",
    "        Input(shape=(28, 28, 1)),\n",
    "        # Lipschitz layers preserve the API of their superclass ( here Conv2D )\n",
    "        # an optional param is available: k_coef_lip which control the lipschitz\n",
    "        # constant of the layer\n",
    "        SpectralConv2D(\n",
    "            filters=16,\n",
    "            kernel_size=(3, 3),\n",
    "            activation=GroupSort(2),\n",
    "            use_bias=True,\n",
    "            kernel_initializer=\"orthogonal\",\n",
    "        ),\n",
    "        # usual pooling layer are implemented (avg, max...), but new layers are also available\n",
    "        ScaledL2NormPooling2D(pool_size=(2, 2), data_format=\"channels_last\"),\n",
    "        SpectralConv2D(\n",
    "            filters=16,\n",
    "            kernel_size=(3, 3),\n",
    "            activation=GroupSort(2),\n",
    "            use_bias=True,\n",
    "            kernel_initializer=\"orthogonal\",\n",
    "        ),\n",
    "        ScaledL2NormPooling2D(pool_size=(2, 2), data_format=\"channels_last\"),\n",
    "        # our layers are fully interoperable with existing keras layers\n",
    "        Flatten(),\n",
    "        SpectralDense(\n",
    "            32,\n",
    "            activation=GroupSort(2),\n",
    "            use_bias=True,\n",
    "            kernel_initializer=\"orthogonal\",\n",
    "        ),\n",
    "        SpectralDense(\n",
    "            32,\n",
    "            activation=GroupSort(2),\n",
    "            use_bias=True,\n",
    "            kernel_initializer=\"orthogonal\",\n",
    "        ),\n",
    "    ],\n",
    "    # similary model has a parameter to set the lipschitz constant\n",
    "    # to set automatically the constant of each layer\n",
    "    k_coef_lip=1.0,\n",
    "    name=\"hkr_model\",\n",
    ")\n",
    "opt = tf.keras.optimizers.Adam(learning_rate=1e-3)"
   ]
  },
  {
   "cell_type": "code",
   "execution_count": 8,
   "id": "086899e7-3feb-4f45-ba2a-dea244b4dbdc",
   "metadata": {},
   "outputs": [],
   "source": [
    "batch_size = 128\n",
    "buffer_size = 1024\n",
    "ds = tf.data.Dataset.from_tensor_slices(x_train).repeat().shuffle(buffer_size).batch(batch_size)\n",
    "num_steps = 300"
   ]
  },
  {
   "cell_type": "code",
   "execution_count": 9,
   "id": "d332de90-340a-46a4-b493-1312be5fa356",
   "metadata": {},
   "outputs": [],
   "source": [
    "import tqdm\n",
    "\n",
    "def train(model, opt, ds):\n",
    "    losses = []\n",
    "    with tqdm.tqdm(total=num_steps) as pb:\n",
    "        for step, batch in zip(range(num_steps), ds):\n",
    "            with tf.GradientTape() as tape:\n",
    "                z = model(batch, training=True)\n",
    "                z1 = tf.expand_dims(z, axis=0)\n",
    "                z2 = tf.expand_dims(z, axis=1)\n",
    "                norms = 0.5 * tf.reduce_sum((z1 - z2)**2, axis=-1)\n",
    "                loss = -tf.reduce_mean(norms) # maximize squared norm\n",
    "            gradient = tape.gradient(loss, model.trainable_variables)\n",
    "            opt.apply_gradients(zip(gradient, model.trainable_variables))\n",
    "            losses.append(-loss)\n",
    "            pb.set_postfix(avg_loss=float(np.array(losses).mean()), loss=float(loss.numpy()))\n",
    "            pb.update()"
   ]
  },
  {
   "cell_type": "code",
   "execution_count": 10,
   "id": "a40a48c2-3908-4c65-b8b8-270a8bad85a4",
   "metadata": {},
   "outputs": [
    {
     "name": "stderr",
     "output_type": "stream",
     "text": [
      "100%|██████████| 300/300 [00:27<00:00, 10.80it/s, avg_loss=283, loss=-300]\n"
     ]
    }
   ],
   "source": [
    "train(model, opt, ds)"
   ]
  },
  {
   "cell_type": "code",
   "execution_count": 11,
   "id": "9778d0ce-51e3-4543-8de1-4ac295fc2ff6",
   "metadata": {},
   "outputs": [
    {
     "name": "stdout",
     "output_type": "stream",
     "text": [
      "S=0.341462105512619 2-inf=[('0.1654885709285736', '0.33081138134002686')] inf=[('0.3538089990615845', '0.8004620671272278')] 2=[(0.34146047, 0.3414621)]\n",
      "S=0.3499998450279236 2-inf=[('0.3499833941459656', '0.3499981760978699')] inf=[('2.3724565505981445', '3.3413302898406982')] 2=[(0.34996822, 0.34999985)]\n",
      "S=1.0 2-inf=[('0.9999678134918213', '0.9999791979789734')] inf=[('17.522907257080078', '19.696821212768555')] 2=[(0.9999474, 1.0)]\n",
      "S=0.9999974966049194 2-inf=[('0.9999940991401672', '0.9999967813491821')] inf=[('4.080472469329834', '4.843266010284424')] 2=[(0.9999814, 0.9999975)]\n",
      "2 tf.Tensor([[[4.4211484]]], shape=(1, 1, 1), dtype=float64)\n",
      "GradSeedNorm: tf.Tensor([[[[4.42114814]]]], shape=(1, 1, 1, 1), dtype=float64)\n",
      "Input:  Input 0.04421148144090759 0.04421148144090759\n",
      "0 <class 'deel.lip.layers.SpectralConv2D'> 1.02 1.02\n",
      "1 <class 'deel.lip.layers.ScaledL2NormPooling2D'> 0.98 0.95\n",
      "2 <class 'deel.lip.layers.SpectralConv2D'> 0.99 1.02\n",
      "3 <class 'deel.lip.layers.ScaledL2NormPooling2D'> 0.88 0.89\n",
      "4 <class 'tensorflow.python.keras.layers.core.Flatten'> 0.88 1.00\n",
      "5 <class 'deel.lip.layers.SpectralDense'> 0.84 0.96\n",
      "6 <class 'deel.lip.layers.SpectralDense'> 0.84 1.00\n",
      "Output:  Output 0.03725207335807163 0.03725207335807163\n",
      "3.6175479791067433 4.421148398604801\n"
     ]
    },
    {
     "data": {
      "image/png": "[encoded data removed]",
      "text/plain": [
       "<Figure size 432x288 with 1 Axes>"
      ]
     },
     "metadata": {
      "needs_background": "light"
     },
     "output_type": "display_data"
    }
   ],
   "source": [
    "from utils import check_grads\n",
    "\n",
    "batch = next(ds.__iter__())\n",
    "check_grads(model, batch, plot_wandb=False, condense=False)"
   ]
  },
  {
   "cell_type": "code",
   "execution_count": 38,
   "id": "204154f7-bc31-4bad-99b3-7f06401f67c4",
   "metadata": {},
   "outputs": [],
   "source": [
    "from tensorflow.keras.layers import Dense\n",
    "\n",
    "num_classes = 10\n",
    "classifier = Dense(num_classes)\n",
    "opt_classifier = tf.keras.optimizers.Adam(learning_rate=1e-3)\n",
    "_ = classifier(model(batch, training=True))"
   ]
  },
  {
   "cell_type": "code",
   "execution_count": 39,
   "id": "f99eb0fc-830d-4637-bc82-ca66a4a1a7af",
   "metadata": {},
   "outputs": [],
   "source": [
    "ds_classifier = tf.data.Dataset.from_tensor_slices((x_train, y_train)).repeat().shuffle(buffer_size).batch(batch_size)"
   ]
  },
  {
   "cell_type": "code",
   "execution_count": 49,
   "id": "f1279ef5-c289-4221-a7b3-98331a4457f2",
   "metadata": {},
   "outputs": [
    {
     "name": "stderr",
     "output_type": "stream",
     "text": [
      "100%|██████████| 300/300 [00:26<00:00, 11.23it/s, acc=81.2, avg_acc=79.2, avg_loss=0.675, loss=0.564]\n"
     ]
    }
   ],
   "source": [
    "def train_classifier(classifier, model, opt, ds):\n",
    "    losses = []\n",
    "    accs = []\n",
    "    with tqdm.tqdm(total=num_steps) as pb:\n",
    "        for step, batch in zip(range(num_steps), ds):\n",
    "            images, labels = batch\n",
    "            with tf.GradientTape() as tape:\n",
    "                z = model(images, training=True)\n",
    "                logits = classifier(z, training=True)\n",
    "                losses_elementwise = tf.nn.softmax_cross_entropy_with_logits(labels, logits)\n",
    "                loss = tf.reduce_mean(losses_elementwise)\n",
    "            preds = tf.argmax(logits, axis=-1)\n",
    "            acc = tf.reduce_mean(tf.cast(preds == tf.argmax(labels, axis=-1), dtype=tf.float32)) * 100\n",
    "            gradient = tape.gradient(loss, classifier.trainable_variables)\n",
    "            opt.apply_gradients(zip(gradient, classifier.trainable_variables))\n",
    "            losses.append(loss); accs.append(acc)\n",
    "            pb.set_postfix(avg_loss=float(np.array(losses).mean()), loss=float(loss.numpy()),\n",
    "                           avg_acc=float(np.array(accs).mean()), acc=float(acc.numpy()))\n",
    "            pb.update()\n",
    "train_classifier(classifier, model, opt_classifier, ds_classifier)"
   ]
  },
  {
   "cell_type": "code",
   "execution_count": 52,
   "id": "b9772d0c-8151-491f-b549-692edcf1560c",
   "metadata": {},
   "outputs": [
    {
     "name": "stderr",
     "output_type": "stream",
     "text": [
      "1000it [00:09, 110.17it/s, acc=92.2, avg_acc=88.4, avg_loss=0.394, loss=0.278]                        \n"
     ]
    }
   ],
   "source": [
    "from tensorflow.keras.layers import Dense\n",
    "\n",
    "num_classes = 10\n",
    "classifier = Dense(num_classes)\n",
    "opt_classifier = tf.keras.optimizers.Adam(learning_rate=1e-3)\n",
    "_ = classifier(tf.reshape(batch, shape=(len(batch), 784)))\n",
    "def train_classifier(classifier, model, opt, ds):\n",
    "    losses = []\n",
    "    accs = []\n",
    "    with tqdm.tqdm(total=num_steps) as pb:\n",
    "        for step, batch in zip(range(1000), ds):\n",
    "            images, labels = batch\n",
    "            with tf.GradientTape() as tape:\n",
    "                z = tf.reshape(images, shape=(len(images), 784))\n",
    "                logits = classifier(z, training=True)\n",
    "                losses_elementwise = tf.nn.softmax_cross_entropy_with_logits(labels, logits)\n",
    "                loss = tf.reduce_mean(losses_elementwise)\n",
    "            preds = tf.argmax(logits, axis=-1)\n",
    "            acc = tf.reduce_mean(tf.cast(preds == tf.argmax(labels, axis=-1), dtype=tf.float32)) * 100\n",
    "            gradient = tape.gradient(loss, classifier.trainable_variables)\n",
    "            opt.apply_gradients(zip(gradient, classifier.trainable_variables))\n",
    "            losses.append(loss); accs.append(acc)\n",
    "            pb.set_postfix(avg_loss=float(np.array(losses).mean()), loss=float(loss.numpy()),\n",
    "                           avg_acc=float(np.array(accs).mean()), acc=float(acc.numpy()))\n",
    "            pb.update()\n",
    "train_classifier(classifier, model, opt_classifier, ds_classifier)"
   ]
  },
  {
   "cell_type": "code",
   "execution_count": null,
   "id": "74c770bf-274a-447a-a924-01c31930d17e",
   "metadata": {},
   "outputs": [],
   "source": []
  }
 ],
 "metadata": {
  "kernelspec": {
   "display_name": "Python 3.8.5 ('tf2')",
   "language": "python",
   "name": "python3"
  },
  "language_info": {
   "codemirror_mode": {
    "name": "ipython",
    "version": 3
   },
   "file_extension": ".py",
   "mimetype": "text/x-python",
   "name": "python",
   "nbconvert_exporter": "python",
   "pygments_lexer": "ipython3",
   "version": "3.8.5"
  },
  "vscode": {
   "interpreter": {
    "hash": "92c440f6d82e79b41f51da7601df579ae39fc115954f77d4b816ac1ce1ea7f75"
   }
  }
 },
 "nbformat": 4,
 "nbformat_minor": 5
}
